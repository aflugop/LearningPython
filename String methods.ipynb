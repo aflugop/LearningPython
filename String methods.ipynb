{
 "cells": [
  {
   "cell_type": "markdown",
   "metadata": {},
   "source": [
    "## String methods\n",
    "Esto es, funciones específicas de strings"
   ]
  },
  {
   "cell_type": "code",
   "execution_count": 13,
   "metadata": {},
   "outputs": [
    {
     "name": "stdout",
     "output_type": "stream",
     "text": [
      "HoLa Hola HOLA hola\n",
      "3\n",
      "5\n",
      "11\n",
      "HoLaHoLaHoLa\n",
      "Hola mundo ! como estas?HoLa\n"
     ]
    }
   ],
   "source": [
    "a=\"HoLa\"\n",
    "b=a.capitalize() #Hola\n",
    "c=a.upper() #HOLA\n",
    "d=a.lower() #hola\n",
    "print(a,b,c,d)\n",
    "#count, find, index, join, len, replace, split\n",
    "t=\"Hola mundo ! como estas?\"\n",
    "e=t.count(\" \",5)\n",
    "print(e)\n",
    "d=t.find(\"mun\")\n",
    "print(d)\n",
    "f=t.index(\"!\")\n",
    "print(f)\n",
    "print(3*a)\n",
    "print(t+a)"
   ]
  },
  {
   "cell_type": "code",
   "execution_count": 21,
   "metadata": {},
   "outputs": [
    {
     "name": "stdout",
     "output_type": "stream",
     "text": [
      "lorem ipsum dolor et\n",
      "['lorem', 'ipsum', 'dolor', 'et']\n",
      "lorem HOLA dolor et\n",
      "Hello 1000 World! -2000\n"
     ]
    }
   ],
   "source": [
    "#join, len, replace, split, format\n",
    "g=[\"lorem\",\"ipsum\",\"dolor\",\"et\"]\n",
    "h=\" \"\n",
    "j=h.join(g)# string completa\n",
    "print(j)\n",
    "k=j.split(\" \")\n",
    "print(k)\n",
    "l=j.replace(\"ipsum\",\"HOLA\")\n",
    "print(l)\n",
    "m=\"Hello {} World! {}\".format(1000,-2000)\n",
    "print(m)"
   ]
  },
  {
   "cell_type": "code",
   "execution_count": null,
   "metadata": {},
   "outputs": [],
   "source": []
  }
 ],
 "metadata": {
  "kernelspec": {
   "display_name": "Python 3",
   "language": "python",
   "name": "python3"
  },
  "language_info": {
   "codemirror_mode": {
    "name": "ipython",
    "version": 3
   },
   "file_extension": ".py",
   "mimetype": "text/x-python",
   "name": "python",
   "nbconvert_exporter": "python",
   "pygments_lexer": "ipython3",
   "version": "3.6.6"
  }
 },
 "nbformat": 4,
 "nbformat_minor": 2
}
