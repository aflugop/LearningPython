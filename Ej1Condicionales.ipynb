{
 "cells": [
  {
   "cell_type": "markdown",
   "metadata": {},
   "source": [
    "### Ejemplo de uso de *condicionales (if...elif...else...)*\n",
    "\n",
    "Genere un programa que pregunte al usuario si desea convertir de ºF a ºC o de ºC a ºF y que muestre el resultado de la conversión correspondiente. Las fórmulas de conversión son $ºC=\\frac{5}{9}\\cdot(ºF-32)$ y $(\\frac{9}{5}\\cdotºC)+32$."
   ]
  },
  {
   "cell_type": "code",
   "execution_count": 6,
   "metadata": {},
   "outputs": [
    {
     "name": "stdout",
     "output_type": "stream",
     "text": [
      "Este programa convierte temperaturas de Farenheit a Celsius y viceversa\n",
      "Si deseas convertir de F a C presiona 'F', si deseas de C a F presiona 'C' x\n",
      "x no es una opcion valida, vuelve a intentar\n"
     ]
    }
   ],
   "source": [
    "print(\"Este programa convierte temperaturas de Farenheit a Celsius y viceversa\")\n",
    "d=input(\"Si deseas convertir de F a C presiona 'F', si deseas de C a F presiona 'C' \")\n",
    "if d=='F':\n",
    "    F=float(input('Introduce la temperatura en grados Farenheit: '))\n",
    "    C=(5/9)*(F-32)\n",
    "    print( \"{0:.2f}ºF = {1:.2f}ºC\".format(F,C) )\n",
    "elif d=='C':\n",
    "    C=float(input('Introduce la temperatura en grados Celsius: '))\n",
    "    F=( (9/5)*C ) + 32\n",
    "    print( \"{0:.2f}ºC = {1:.2f}ºF\".format(C,F) )\n",
    "else: # este caso se usa para cuando el usuario selecciona una opcion no valida\n",
    "    print(\"{} no es una opcion valida, vuelve a intentar\".format(d))"
   ]
  },
  {
   "cell_type": "code",
   "execution_count": null,
   "metadata": {},
   "outputs": [],
   "source": []
  }
 ],
 "metadata": {
  "kernelspec": {
   "display_name": "Python 3",
   "language": "python",
   "name": "python3"
  },
  "language_info": {
   "codemirror_mode": {
    "name": "ipython",
    "version": 3
   },
   "file_extension": ".py",
   "mimetype": "text/x-python",
   "name": "python",
   "nbconvert_exporter": "python",
   "pygments_lexer": "ipython3",
   "version": "3.6.6"
  }
 },
 "nbformat": 4,
 "nbformat_minor": 2
}
