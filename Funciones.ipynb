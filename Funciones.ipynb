{
 "cells": [
  {
   "cell_type": "markdown",
   "metadata": {},
   "source": [
    "## Funciones\n",
    "\n",
    "Existen distintos tipos de funciones en Python. En particular las funciones pueden tener entradas y salidas; a las entradas se les conoce como *argumentos* y a las salidas como *valores a regresar*.\n",
    "\n",
    "La sintáxis básica de una función llamada **funcion_mia** es la siguiente:\n",
    "```python\n",
    "def funcion_mia(ARGUMENTOS):\n",
    "  CÓDIGO A EJECUTAR DENTRO DE LA FUNCIÓN\n",
    "  return(VALORES A REGRESAR)\n",
    "CÓDIGO FUERA DE LA FUNCIÓN\n",
    "\n",
    "LLAMADA A LA FUNCIÓN (¡MUY IMPORTANTE!)\n",
    "```\n",
    "Es importante que una vez que se ha definido la función, ésta no hará nada por si sóla; es necesario **llamar** a la función dándole argumentos con una sintáxis semejante a: funcion_mia(argumentos).\n",
    "\n",
    "Un ejemplo básico de uso de una función podría ser el siguiente: haremos una función que reciba como argumentos dos números y que nos regrese su suma.\n"
   ]
  },
  {
   "cell_type": "code",
   "execution_count": null,
   "metadata": {},
   "outputs": [],
   "source": [
    "def sumados(num1,num2):\n",
    "    \"\"\"Este programa suma dos números\"\"\"\n",
    "    ss2=num1+num2\n",
    "    print(\"La suma es: \", ss2)\n",
    "    \n",
    "# A continuacion se llama a la funcion sumados, dandole como argumentos 4 y 5.\n",
    "\n",
    "sumados(4,5) # Esta funcion no regresa ningun valor, solo imprime en pantalla."
   ]
  },
  {
   "cell_type": "markdown",
   "metadata": {},
   "source": [
    "Ahora crearemos otra función (operaciones(A,B)), que aceptará dos argumentos. En caso que A>B imprimirá \"A es mayor que B y la suma es A+B\", en caso que A<B imprimirá \"A es menor que B y la resta es A-B\", por último, en caso que A=B imprimirá \"A es igual con B y la multiplicacion es A*B\"."
   ]
  },
  {
   "cell_type": "code",
   "execution_count": null,
   "metadata": {},
   "outputs": [],
   "source": [
    "def operaciones(a,b):\n",
    "    \"\"\"Este programa acepta dos numeros como argumento, en caso que el primero sea mayor al segundo realiza una suma...\"\"\"\n",
    "    if a>b:\n",
    "        print(a,\" es mayor que\", b,\" y la suma es: \", a+b)\n",
    "    else:\n",
    "        if a<b:\n",
    "            print(a,\" es menor que \",b,\" y la resta es: \",a-b)\n",
    "        else:\n",
    "            print(a,\" es igual con \",b,\" y la multiplicacion es:\",a*b)\n",
    "\n",
    "# Ahora tenemos que llamar a la funcion para ver su uso\n",
    "x=int(input('Introduce el primer numero: '))\n",
    "y=int(input('Introduce el primer numero: '))\n",
    "operaciones(x,y)"
   ]
  },
  {
   "cell_type": "markdown",
   "metadata": {},
   "source": [
    "## Tipos de funciones\n",
    "\n",
    "A continuación se muestran algunos ejemplos de funciones, según si aceptan argumentos y/o si regresan algún valor.\n",
    "\n",
    "1.- Primer función de ejemplo `saludo()`, no tiene argumentos de entrada y no regresa (return) nada.\n"
   ]
  },
  {
   "cell_type": "code",
   "execution_count": null,
   "metadata": {},
   "outputs": [],
   "source": [
    "def saludo():\n",
    "  print(\"Esta funcion no tiene argumentos de entrada\")\n",
    "  print(\"y tampoco tiene elementos a regresar\")\n",
    "  print(\"solo imprime este texto.\\n\")\n",
    "  \n",
    "# Para poder usar la función tenemos que \"LLAMARLA\" de la siguiente\n",
    "# forma:\n",
    "saludo()"
   ]
  },
  {
   "cell_type": "markdown",
   "metadata": {},
   "source": [
    "2.- Segunda función de ejemplo `letra_palabra()`, tiene un dato tipo str (`palabra`) de argumento y no regresa nada."
   ]
  },
  {
   "cell_type": "code",
   "execution_count": null,
   "metadata": {},
   "outputs": [],
   "source": [
    "def letra_palabra(palabra):\n",
    "  for letra in palabra: #En este ciclo hacemos que el contador 'letra'\n",
    "    print(letra) #recorra los elementos (letras) en la palabra que \n",
    "        #introduzca el usario y las imprima una por renglón.\n",
    "\n",
    "a=input('Introduce una palabra para mostrarla letra por letra: ')\n",
    "#Con 'input' se acepta una cadena para despues meterla como argumento\n",
    "letra_palabra(a) #Se LLAMA a la segunda función, dandole como argumento\n",
    "#la palabra que el usuario proporcione."
   ]
  },
  {
   "cell_type": "markdown",
   "metadata": {},
   "source": [
    "3.- Tercera función de ejemplo`fib()`, tiene un argumento de entrada`n` y regresa el n-ésimo término de la sucesión de Fibonacci"
   ]
  },
  {
   "cell_type": "code",
   "execution_count": null,
   "metadata": {},
   "outputs": [],
   "source": [
    "def fib(n):# Esta primer parte es siguiendo la definicion de la \n",
    "    if n == 1: #sucesión de Fibonacci\n",
    "        return 0\n",
    "    elif n == 2:\n",
    "        return 1\n",
    "    else:\n",
    "        return fib(n-1) + fib(n-2)\n",
    "#Por ejemplo:\n",
    "var1=int(input('''Introduce el numero n de la sucesion de Fibonacci que \n",
    "quieras que se despliegue'''))\n",
    "print(fib(var1))# LLAMADA a la tercer función\n",
    "#imrpime el n-ésimo término de la Sucesión"
   ]
  },
  {
   "cell_type": "markdown",
   "metadata": {},
   "source": [
    "4.- Cuarta función de ejemplo `suc_fibonacci()`, no tiene argumentos de entrada y regresa una variable con los primeros 6 números de la sucesión de Fibonacci, usando la función `fib()` del ejemplo 3."
   ]
  },
  {
   "cell_type": "code",
   "execution_count": null,
   "metadata": {},
   "outputs": [],
   "source": [
    "def fib(n):# Esta primer parte es siguiendo la definicion de la \n",
    "    if n == 1: #sucesión de Fibonacci\n",
    "        return 0\n",
    "    elif n == 2:\n",
    "        return 1\n",
    "    else:\n",
    "        return fib(n-1) + fib(n-2)\n",
    "\n",
    "def suc_fibonacci():\n",
    "  lista=[]\n",
    "  for cont in range(1,7): #para que sean los primeros 6\n",
    "    lista.append(fib(cont))\n",
    "  return lista\n",
    "  \n",
    "print('Los primeros 6 numeros de la sucesion de Fibonacci son: ')\n",
    "print(suc_fibonacci()) #LLAMADA a la cuarta función."
   ]
  },
  {
   "cell_type": "code",
   "execution_count": null,
   "metadata": {},
   "outputs": [],
   "source": []
  }
 ],
 "metadata": {
  "kernelspec": {
   "display_name": "Python 3",
   "language": "python",
   "name": "python3"
  },
  "language_info": {
   "codemirror_mode": {
    "name": "ipython",
    "version": 3
   },
   "file_extension": ".py",
   "mimetype": "text/x-python",
   "name": "python",
   "nbconvert_exporter": "python",
   "pygments_lexer": "ipython3",
   "version": "3.6.6"
  }
 },
 "nbformat": 4,
 "nbformat_minor": 2
}
