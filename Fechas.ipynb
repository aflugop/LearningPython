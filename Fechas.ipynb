{
 "cells": [
  {
   "cell_type": "markdown",
   "metadata": {},
   "source": [
    "### Ejemplo de fecha en formato dd:mm:aaaa\n",
    "\n",
    "En este ejemplo se aborda el uso del método ``str.split()``, el uso de *slicing* y el uso de *condicionales*."
   ]
  },
  {
   "cell_type": "code",
   "execution_count": null,
   "metadata": {},
   "outputs": [],
   "source": [
    "print('Este programa recibe fecha en formato dd:mm:aaaa y verifica si es correcta')\n",
    "f=input('Introduce fecha en formato dd:mm:aaaa ')\n",
    "a=f.split(':') #a=['dd','mm','aaaa'], dia=a[0]\n",
    "dia=a[0]\n",
    "mes=a[1]\n",
    "year=a[2]\n",
    "if len(dia)==2 and len(mes)==2 and len(year)==4:\n",
    "    dia=int(dia)\n",
    "    mes=int(mes)\n",
    "    year=int(year)\n",
    "    if year>0 and (mes>=1 and mes <=12):\n",
    "        if (mes in [1,3,5,7,8,10,12]) and (dia>=1 and dia<=31):\n",
    "            print('Fecha correcta')\n",
    "        elif (mes in [4,6,9,11]) and (dia>=1 and dia<=30):\n",
    "            print('Fecha correcta')\n",
    "        else:\n",
    "            if (year%4==0 and year%100!=0 or year%400==0) and (dia>=1 and dia<=29):\n",
    "                print('Fecha correcta')\n",
    "            elif dia>=1 and dia<=28:\n",
    "                print('Fecha correcta')\n",
    "            else:\n",
    "                print('Fecha incorrecta')                \n",
    "else:\n",
    "    print('Fecha incorrecta')"
   ]
  }
 ],
 "metadata": {
  "kernelspec": {
   "display_name": "Python 3",
   "language": "python",
   "name": "python3"
  },
  "language_info": {
   "codemirror_mode": {
    "name": "ipython",
    "version": 3
   },
   "file_extension": ".py",
   "mimetype": "text/x-python",
   "name": "python",
   "nbconvert_exporter": "python",
   "pygments_lexer": "ipython3",
   "version": "3.6.6"
  }
 },
 "nbformat": 4,
 "nbformat_minor": 2
}
